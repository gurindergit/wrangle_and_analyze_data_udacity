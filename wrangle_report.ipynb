{
 "cells": [
  {
   "cell_type": "markdown",
   "metadata": {},
   "source": [
    "# Project and Dataset Info"
   ]
  },
  {
   "cell_type": "markdown",
   "metadata": {},
   "source": [
    "The project is provided by Udacity. The dataset used is the tweet archive of Twitter user **@dog_rates**, also known as **WeRateDogs**. WeRateDogs is a Twitter account that rates people's dogs with a humorous comment about the dog."
   ]
  },
  {
   "cell_type": "markdown",
   "metadata": {},
   "source": [
    "# Wrangling Steps"
   ]
  },
  {
   "cell_type": "markdown",
   "metadata": {},
   "source": [
    "The Following have been taken to wrangle the data:\n",
    "1. Gathering data\n",
    "\n",
    "2. Assessing data\n",
    "\n",
    "3. Cleaning data"
   ]
  },
  {
   "cell_type": "markdown",
   "metadata": {},
   "source": [
    "## 1. Gathering Data"
   ]
  },
  {
   "cell_type": "markdown",
   "metadata": {},
   "source": [
    "This project consists of three datasets obtained with the following methods:\n",
    "\n",
    "- **Twitter Archive**: The *twitter_archive_enhanced.csv* was provided by Udacity and was downloaded manually.\n",
    "\n",
    "- **Image Predictions**: The *image_predictions.tsv* is hosted on Udacity's server and was downloaded programmatically using thr *Requests* library and URL information.\n",
    "\n",
    "- **Tweet Data**: The *tweet_json.txt* was provided by Udacity. It could also be gathered using the Twitter API *tweepy*."
   ]
  },
  {
   "cell_type": "markdown",
   "metadata": {},
   "source": [
    "## 2. Assessing Data"
   ]
  },
  {
   "cell_type": "markdown",
   "metadata": {},
   "source": [
    "**Visual assessment** was done using *.head()* dataframe method to have an overview of the data.\n",
    "<br/><br/>\n",
    "**Programmatic assessment** was done using following methods:\n",
    "- *.info()*: To get the columns and their dtypes.\n",
    "- *.isnull().sum()*: To get the sum of all the null values.\n",
    "- *.duplicated()*: To get the duplicated values.\n",
    "- *.describe()*: To get the statistical overview of int or float dtype columns.\n",
    "- *.nunique()*: To get the number of unique values in each column.\n",
    "- *Other Methods*: Specific methods for specific df infos.\n",
    "<br/><br/>\n",
    "Through these assessment steps **Quality** and **Tidiness Issues** were recognized and documented."
   ]
  },
  {
   "cell_type": "markdown",
   "metadata": {},
   "source": [
    "## 3. Cleaning Data"
   ]
  },
  {
   "cell_type": "markdown",
   "metadata": {},
   "source": [
    "A copy of all the dataframes was made to make sure that the original dataframes don't get lost. The following issues were addressed towards the cleaning purposes in the same sequence:\n",
    "<br/><br/>\n",
    "**Quality Issues**\n",
    "1. Retweets should be deleted.\n",
    "\n",
    "2. Missing values in the following columns: **in_reply_to_status_id, in_reply_to_user_id, retweeted_status_id, retweeted_status_user_id, retweeted_status_timestamp, and expanded_urls.**\n",
    "\n",
    "3. **tweet_id** should be of string dtype instead of int.\n",
    "\n",
    "4. **timestamp** should be of datetime dtype instead of int.\n",
    "\n",
    "5. **source** should be of category dtype instead of str.\n",
    "\n",
    "6. Inconsistent column names. **id_str** in `tweet_count` should be changed to **tweet_id**.\n",
    "\n",
    "7. Inconsistent dog bread naming cases in `image_data` table. \n",
    "\n",
    "8. Incorrect names in `twitter_archive` table.\n",
    "<br/><br/>\n",
    "**Tidiness Issues**\n",
    "9. **doggo, floofer, pupper and puppo** are different columns. They should be made into one categorical column.\n",
    "\n",
    "10. `twitter_archive` and `tweet_count` tables should be merged.\n",
    "\n",
    "Each step had three substeps, **Define**, **Code** and **Test** to make sure that the desired result is achieved."
   ]
  }
 ],
 "metadata": {
  "kernelspec": {
   "display_name": "Python 3",
   "language": "python",
   "name": "python3"
  },
  "language_info": {
   "codemirror_mode": {
    "name": "ipython",
    "version": 3
   },
   "file_extension": ".py",
   "mimetype": "text/x-python",
   "name": "python",
   "nbconvert_exporter": "python",
   "pygments_lexer": "ipython3",
   "version": "3.6.3"
  }
 },
 "nbformat": 4,
 "nbformat_minor": 2
}
